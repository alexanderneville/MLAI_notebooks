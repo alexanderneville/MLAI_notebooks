{
 "cells": [
  {
   "cell_type": "markdown",
   "id": "df496c5a",
   "metadata": {},
   "source": [
    "# Supervised Machine Learning\n",
    "\n",
    "A code notebook for studying basic machine learning algorithms.\n",
    "\n",
    "## Resources\n",
    "\n",
    "* [matplotlib quick start guide](https://matplotlib.org/stable/tutorials/introductory/quick_start.html).\n",
    "* [numpy learning section](https://numpy.org/learn/)."
   ]
  },
  {
   "cell_type": "markdown",
   "id": "b0a0754c",
   "metadata": {},
   "source": [
    "## Imports"
   ]
  },
  {
   "cell_type": "code",
   "execution_count": 52,
   "id": "fd020f8c",
   "metadata": {},
   "outputs": [],
   "source": [
    "import matplotlib as mpl\n",
    "import matplotlib.pyplot as plt\n",
    "from matplotlib.ticker import (MultipleLocator, AutoMinorLocator, FormatStrFormatter)\n",
    "import numpy as np\n",
    "%matplotlib inline"
   ]
  },
  {
   "cell_type": "markdown",
   "id": "54bc8c59",
   "metadata": {},
   "source": [
    "## Plot a test graph"
   ]
  },
  {
   "cell_type": "code",
   "execution_count": 22,
   "id": "35d51e94",
   "metadata": {
    "scrolled": true
   },
   "outputs": [
    {
     "data": {
      "text/plain": [
       "array([ 1,  2,  3,  4,  5,  6,  7,  8,  9, 10, 11, 12, 13, 14, 15, 16, 17,\n",
       "       18, 19, 20, 21, 22, 23, 24, 25, 26, 27, 28, 29, 30, 31, 32, 33, 34,\n",
       "       35, 36, 37, 38, 39, 40, 41, 42, 43, 44, 45, 46, 47, 48, 49, 50, 51,\n",
       "       52, 53, 54, 55, 56, 57, 58, 59, 60, 61, 62, 63, 64, 65, 66, 67, 68,\n",
       "       69, 70, 71, 72, 73, 74, 75, 76, 77, 78, 79, 80, 81, 82, 83, 84, 85,\n",
       "       86, 87, 88, 89, 90, 91, 92, 93, 94, 95, 96, 97, 98, 99])"
      ]
     },
     "execution_count": 22,
     "metadata": {},
     "output_type": "execute_result"
    }
   ],
   "source": [
    "x = np.arange(1,100)\n",
    "x"
   ]
  },
  {
   "cell_type": "code",
   "execution_count": 87,
   "id": "7e672835",
   "metadata": {},
   "outputs": [
    {
     "data": {
      "text/plain": [
       "[<matplotlib.lines.Line2D at 0x7fbf07cd67d0>]"
      ]
     },
     "execution_count": 87,
     "metadata": {},
     "output_type": "execute_result"
    },
    {
     "data": {
      "image/png": "[encoded data removed]",
      "text/plain": [
       "<Figure size 640x480 with 1 Axes>"
      ]
     },
     "metadata": {},
     "output_type": "display_data"
    }
   ],
   "source": [
    "grid_color = \"#dddddd\"\n",
    "\n",
    "f = plt.figure()\n",
    "ax = f.add_subplot(1,1,1)\n",
    "ax.set_xlim(0,100)\n",
    "ax.set_ylim(0,100)\n",
    "ax.spines['top'].set_color(grid_color)\n",
    "ax.spines['left'].set(zorder=10)\n",
    "ax.spines['right'].set_color(grid_color)\n",
    "ax.axis(\"square\")\n",
    "# ax.grid(color=\"#aaaaaa\")\n",
    "\n",
    "ax.xaxis.set_major_locator(MultipleLocator(20))\n",
    "ax.xaxis.set_minor_locator(AutoMinorLocator(4))\n",
    "ax.yaxis.set_major_locator(MultipleLocator(20))\n",
    "ax.yaxis.set_minor_locator(AutoMinorLocator(4))\n",
    "\n",
    "ax.tick_params(which='minor', width=1, length=4, color=\"#000000\")\n",
    "ax.tick_params(which='major', width=1, length=10, color=\"#000000\")\n",
    "\n",
    "# ax.grid(which=\"minor\", color=grid_color, linestyle=\"-\", lw=0.5)\n",
    "# ax.grid(which=\"major\", color=grid_color, linestyle=\"-\")\n",
    "\n",
    "ax.plot([1,99], [1,99], marker=\"None\", linestyle=\"-\", markersize=1)"
   ]
  },
  {
   "cell_type": "code",
   "execution_count": null,
   "id": "6165cb06",
   "metadata": {},
   "outputs": [],
   "source": []
  }
 ],
 "metadata": {
  "kernelspec": {
   "display_name": "Python 3 (ipykernel)",
   "language": "python",
   "name": "python3"
  },
  "language_info": {
   "codemirror_mode": {
    "name": "ipython",
    "version": 3
   },
   "file_extension": ".py",
   "mimetype": "text/x-python",
   "name": "python",
   "nbconvert_exporter": "python",
   "pygments_lexer": "ipython3",
   "version": "3.10.6"
  }
 },
 "nbformat": 4,
 "nbformat_minor": 5
}
