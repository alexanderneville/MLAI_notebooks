{
 "cells": [
  {
   "cell_type": "markdown",
   "id": "01a077ae",
   "metadata": {},
   "source": [
    "# Nonparametric Models\n",
    "\n",
    "Regression uses the traing data to approximate a function with a set of paramters, often labelled $\\mathbf{w}$. The model can classify unseen data with these parameters alone, without requiring the training data. Such a model is called *parametric*.\n",
    "\n",
    "*Nonparametic* models retain the training set as part of the model and are often more complicated than those that can be defined with a finite set of paramaters. Sometimes nonparametric models are called *instance-based learning* or *memory-based learning* models.\n",
    "\n",
    "A very simple such model is the *table lookup* model. $h(\\mathbf{x})$ returns the corresponding $y$ if $\\mathbf{x}$ is in the table. This model is very poor at generalising and cannot return an output if the input is not part of the training set."
   ]
  },
  {
   "cell_type": "code",
   "execution_count": 1,
   "id": "8b554618",
   "metadata": {},
   "outputs": [],
   "source": [
    "import matplotlib as mpl\n",
    "import matplotlib.pyplot as plt\n",
    "from matplotlib.ticker import (MultipleLocator, AutoMinorLocator, FormatStrFormatter)\n",
    "import numpy as np\n",
    "import sklearn.datasets\n",
    "import math\n",
    "%matplotlib inline\n",
    "\n",
    "def new_plot():\n",
    "    fig = plt.figure(dpi=300)\n",
    "    ax = fig.add_subplot(1,1,1)\n",
    "    ax.set_xticks([])\n",
    "    ax.set_yticks([])\n",
    "    ax.set_aspect('auto')\n",
    "    return fig, ax"
   ]
  },
  {
   "cell_type": "markdown",
   "id": "56fb3120",
   "metadata": {},
   "source": [
    "## k-Nearest Neighbours\n",
    "\n",
    "k-NN\n",
    "\n",
    "$NN(k, \\mathbf{x}_q)$"
   ]
  }
 ],
 "metadata": {
  "kernelspec": {
   "display_name": "Python 3 (ipykernel)",
   "language": "python",
   "name": "python3"
  },
  "language_info": {
   "codemirror_mode": {
    "name": "ipython",
    "version": 3
   },
   "file_extension": ".py",
   "mimetype": "text/x-python",
   "name": "python",
   "nbconvert_exporter": "python",
   "pygments_lexer": "ipython3",
   "version": "3.11.3"
  }
 },
 "nbformat": 4,
 "nbformat_minor": 5
}
